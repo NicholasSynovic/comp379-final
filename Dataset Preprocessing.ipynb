{
 "cells": [
  {
   "cell_type": "code",
   "execution_count": 1,
   "metadata": {},
   "outputs": [],
   "source": [
    "import pandas as pd\n",
    "import numpy as np\n",
    "import matplotlib.pyplot as plt\n",
    "import seaborn as sns\n",
    "import os\n",
    "import csv"
   ]
  },
  {
   "cell_type": "code",
   "execution_count": 2,
   "metadata": {},
   "outputs": [],
   "source": [
    "def get_translation_table(filename):\n",
    "    file_path = \"Data_Translation_Tables\\{}.csv\" \n",
    "    with open(file_path.format(filename), \"r\") as inp:\n",
    "        reader = csv.reader(inp)\n",
    "        dict_csv = {rows[0]:rows[1] for rows in reader}\n",
    "    return dict_csv"
   ]
  },
  {
   "cell_type": "code",
   "execution_count": 3,
   "metadata": {},
   "outputs": [],
   "source": [
    "def save_df_to_zip(dataframe, filename):\n",
    "    file = \"{}.csv\"\n",
    "    compress_df = dict(method='zip',\n",
    "                      archive_name=file.format(filename))\n",
    "    zipfile = \"{}.zip\"\n",
    "    dataframe.to_csv(zipfile.format(filename), index = False,\n",
    "                    compression=compress_df)"
   ]
  },
  {
   "cell_type": "code",
   "execution_count": 4,
   "metadata": {},
   "outputs": [],
   "source": [
    "data_raw = pd.read_csv(\"Crimes_2021_Dataset.csv\")"
   ]
  },
  {
   "cell_type": "code",
   "execution_count": 5,
   "metadata": {},
   "outputs": [],
   "source": [
    "#Drop the following arbitrary columns:\n",
    "# \"ID\",\"Case Number\",\"Updated On\", \"Year\", \"Location\", \"Year\", \"Block\"\n",
    "data = pd.read_csv(\"Crimes_2021_Dataset.csv\")\n",
    "data = data.drop(['ID','Case Number','Updated On', 'Location', 'Year', 'Block'], axis = 1)"
   ]
  },
  {
   "cell_type": "code",
   "execution_count": 6,
   "metadata": {},
   "outputs": [],
   "source": [
    "# Convert the following bool types to integer values 1/True, 0/False:\n",
    "# \"Arrest\", \"Domestic\"\n",
    "boolean_dict = {True : 1, False : 0}\n",
    "data['Arrest'] = data_raw['Arrest'].map(boolean_dict)\n",
    "data['Domestic'] = data_raw['Domestic'].map(boolean_dict)"
   ]
  },
  {
   "cell_type": "code",
   "execution_count": 7,
   "metadata": {},
   "outputs": [],
   "source": [
    "# Convert the following columns using the translation tables:\n",
    "# \"IUCR\", \"Primary Type\", \"Location Description\", \"Description\", \"FBI Code\"\n",
    "primary_type_dict = get_translation_table(\"Primary_Type_Translation_Table\")\n",
    "location_description_dict = get_translation_table(\"Location_Description_Translation_Table\")\n",
    "iucr_dict = get_translation_table(\"IUCR_Translation_Table\")\n",
    "fbi_code_dict = get_translation_table(\"FBI_Code_Translation_Table\")\n",
    "description_dict = get_translation_table(\"Description_Translation_Table\")\n",
    "\n",
    "data['Primary Type'] = data_raw['Primary Type'].map(primary_type_dict).fillna(\"0\").astype(np.int64)\n",
    "data['Location Description'] = data_raw['Location Description'].map(location_description_dict).fillna(\"0\").astype(np.int64)\n",
    "data['IUCR'] = data_raw['IUCR'].map(iucr_dict).fillna(\"0\").astype(np.int64)\n",
    "data['FBI Code'] = data_raw['FBI Code'].map(fbi_code_dict).fillna(\"0\").astype(np.int64)\n",
    "data['Description'] = data_raw['Description'].map(description_dict).fillna(\"0\").astype(np.int64)"
   ]
  },
  {
   "cell_type": "code",
   "execution_count": 8,
   "metadata": {},
   "outputs": [
    {
     "name": "stderr",
     "output_type": "stream",
     "text": [
      "<ipython-input-8-cdfe4d5e867f>:9: FutureWarning: Series.dt.weekofyear and Series.dt.week have been deprecated.  Please use Series.dt.isocalendar().week instead.\n",
      "  data['Date_week'] = data['Date'].dt.week\n"
     ]
    }
   ],
   "source": [
    "# Convert date to readable format using the following format:\n",
    "# '%m/%d/%Y %H:%M'\n",
    "# Then, seperate Date into individual day, month, week, hour, minute, and dayofweek columns for analysis\n",
    "data['Date'] = pd.to_datetime(data_raw['Date'],\n",
    "                             format = '%m/%d/%Y %H:%M',\n",
    "                             errors = 'coerce')\n",
    "data['Date_day'] = data['Date'].dt.day\n",
    "data['Date_month'] = data['Date'].dt.month\n",
    "data['Date_week'] = data['Date'].dt.week\n",
    "data['Date_hour'] = data['Date'].dt.hour\n",
    "data['Date_minute'] = data['Date'].dt.minute\n",
    "data['Date_dayofweek'] = data['Date'].dt.dayofweek"
   ]
  },
  {
   "cell_type": "code",
   "execution_count": 12,
   "metadata": {},
   "outputs": [
    {
     "name": "stdout",
     "output_type": "stream",
     "text": [
      "<class 'pandas.core.frame.DataFrame'>\n",
      "Int64Index: 170784 entries, 0 to 172060\n",
      "Data columns (total 15 columns):\n",
      " #   Column                Non-Null Count   Dtype  \n",
      "---  ------                --------------   -----  \n",
      " 0   IUCR                  170784 non-null  int64  \n",
      " 1   Primary Type          170784 non-null  int64  \n",
      " 2   Description           170784 non-null  int64  \n",
      " 3   Location Description  170784 non-null  int64  \n",
      " 4   Arrest                170784 non-null  int64  \n",
      " 5   Domestic              170784 non-null  int64  \n",
      " 6   District              170784 non-null  int64  \n",
      " 7   Community Area        170784 non-null  int64  \n",
      " 8   Latitude              170784 non-null  float64\n",
      " 9   Longitude             170784 non-null  float64\n",
      " 10  Date_day              170784 non-null  int64  \n",
      " 11  Date_month            170784 non-null  int64  \n",
      " 12  Date_hour             170784 non-null  int64  \n",
      " 13  Date_minute           170784 non-null  int64  \n",
      " 14  Date_dayofweek        170784 non-null  int64  \n",
      "dtypes: float64(2), int64(13)\n",
      "memory usage: 20.8 MB\n"
     ]
    }
   ],
   "source": [
    "# Remove heavily coorelated features and drop samples with no Lo/La data\n",
    "data_s = data.drop(['Ward',\n",
    "                    'FBI Code',\n",
    "                    'X Coordinate', \n",
    "                    'Y Coordinate', \n",
    "                    'Date_week',\n",
    "                    'Date',\n",
    "                    'Beat'], axis = 1)\n",
    "data_s = data_s.dropna(subset = ['Latitude', 'Longitude'])\n",
    "data_s.info()"
   ]
  },
  {
   "cell_type": "code",
   "execution_count": 14,
   "metadata": {},
   "outputs": [],
   "source": [
    "# Save processed and optimized datasets to zip/csv\n",
    "save_df_to_zip(data, \"Non-Dropped Processed Dataset\")\n",
    "save_df_to_zip(data_s, \"Processed Dataset\")"
   ]
  },
  {
   "cell_type": "code",
   "execution_count": null,
   "metadata": {},
   "outputs": [],
   "source": []
  }
 ],
 "metadata": {
  "kernelspec": {
   "display_name": "Python 3",
   "language": "python",
   "name": "python3"
  },
  "language_info": {
   "codemirror_mode": {
    "name": "ipython",
    "version": 3
   },
   "file_extension": ".py",
   "mimetype": "text/x-python",
   "name": "python",
   "nbconvert_exporter": "python",
   "pygments_lexer": "ipython3",
   "version": "3.8.5"
  }
 },
 "nbformat": 4,
 "nbformat_minor": 4
}
